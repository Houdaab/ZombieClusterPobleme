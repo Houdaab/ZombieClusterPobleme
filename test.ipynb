{
 "cells": [
  {
   "cell_type": "code",
   "execution_count": 1,
   "metadata": {},
   "outputs": [],
   "source": [
    "import numpy as np"
   ]
  },
  {
   "cell_type": "code",
   "execution_count": 2,
   "metadata": {},
   "outputs": [],
   "source": [
    "#input matrix = a\n",
    "#visited matrix = v (keep track of visited nodes)\n",
    "#cluster count = counter that will be incremented at each time we encounter a node/element with value 1 ad has not yet been visited\n",
    "\n",
    "def depth_first_search(j, v, a, n):\n",
    "    for k in range(n):\n",
    "        if a[j][k] == 1 and v[j][k] == False and v[k][j] == False:\n",
    "            v[j][k] = True \n",
    "            v[k][j] = True \n",
    "            depth_first_search(k,v,a, n) \n",
    "\n",
    "def  zombieCluster(a):\n",
    "    n= a.shape[0] #rows\n",
    "    cluster_count = 0 #initialiser le counter\n",
    "   \n",
    "    v = [[False for j in range(n)]for i in range(n)] ## initialisation de v / dim.v=(n,n)\n",
    "    \n",
    "    for i in range(n):\n",
    "        x = False\n",
    "        for j in range(n):\n",
    "            if a[i][j] == 1 and v[i][j] == False and v[j][i] == False: #element with value 1 is detected and has not yet been visited\n",
    "                v[i][j] = True # if not yet visited mark it as True\n",
    "                v[j][i] = True # if not yet visited mark it as True\n",
    "                depth_first_search(j, v, a, n) \n",
    "                if x == False:\n",
    "                    cluster_count+= 1 # increment the counter\n",
    "                    x = True\n",
    "                    \n",
    "    return cluster_count\n",
    "    \n"
   ]
  },
  {
   "cell_type": "code",
   "execution_count": 4,
   "metadata": {},
   "outputs": [
    {
     "data": {
      "text/plain": [
       "3"
      ]
     },
     "execution_count": 4,
     "metadata": {},
     "output_type": "execute_result"
    }
   ],
   "source": [
    "##exemple 10\n",
    "\n",
    "a =np.array( [[1, 0, 0, 0, 0, 0, 0, 0, 0, 0, 0, 0, 0, 0, 0],[0, 1, 1, 0, 1, 0, 0, 0, 0, 0, 0, 1, 0, 1, 0],[0, 1, 1, 0, 0, 0, 0, 0, 0, 0, 0, 0, 0, 0, 0], [0, 0, 0, 1, 0, 0, 0, 0, 0, 0, 0, 0, 1, 0, 1],[0, 1, 0, 0, 1, 0, 1, 0, 0, 0, 0, 0, 0, 0, 0],\n",
    "             [0, 0, 0, 0, 0, 1, 0, 0, 0, 1, 0, 0, 0, 0, 1], [0, 0, 0, 0, 1, 0, 1, 1, 0, 0, 0, 0, 0, 0, 0],\n",
    "             [0, 0, 0, 0, 0, 0, 1, 1, 0, 0, 0, 0, 0, 0, 0],\n",
    "             [0, 0, 0, 0, 0, 0, 0, 0, 1, 0, 0, 1, 1, 0, 0],\n",
    "             [0, 0, 0, 0, 0, 1, 0, 0, 0, 1, 0, 0, 1, 0, 0],[0, 0, 0, 0, 0, 0, 0, 0, 0, 0, 1, 0, 0, 0, 0], [0, 1, 0, 0, 0, 0, 0, 0, 1, 0, 0, 1, 0, 0, 0],[0, 0, 0, 1, 0, 0, 0, 0, 1, 1, 0, 0, 1, 0, 0], [0, 1, 0, 0, 0, 0, 0, 0, 0, 0, 0, 0, 0, 1, 0],[0, 0, 0, 1, 0, 1, 0, 0, 0, 0, 0, 0, 0, 0, 1]] )\n",
    "\n",
    "zombieCluster(a)"
   ]
  },
  {
   "cell_type": "code",
   "execution_count": 5,
   "metadata": {},
   "outputs": [
    {
     "data": {
      "text/plain": [
       "1"
      ]
     },
     "execution_count": 5,
     "metadata": {},
     "output_type": "execute_result"
    }
   ],
   "source": [
    "## exemple 9\n",
    "\n",
    "a =np.array ([[1, 1, 0, 0, 0, 1, 1, 0, 0, 0, 0, 1, 0, 0, 0],\n",
    " [1, 1, 1, 0, 0, 0, 1, 0, 0, 0, 0, 0, 1, 0, 1],\n",
    " [0, 1, 1, 0, 0, 0, 1, 0, 0, 0, 0, 1, 0, 1, 0],\n",
    " [0, 0, 0, 1, 1, 0, 0, 0, 1, 0, 1, 1, 0, 0, 0],\n",
    " [0, 0, 0, 1, 1, 0, 0, 0, 0, 0, 0, 0, 0, 1, 1],\n",
    " [1, 0, 0, 0, 0, 1, 0, 0, 1, 0, 0, 0, 0, 0, 1],\n",
    " [1, 1, 1, 0, 0, 0, 1, 0, 0, 0, 0, 1, 0, 0, 0],\n",
    " [0, 0, 0, 0, 0, 0, 0, 1, 1, 0, 0, 0, 0, 0, 1],\n",
    " [0, 0, 0, 1, 0, 1, 0, 1, 1, 1, 0, 0, 0, 0, 0],\n",
    " [0, 0, 0, 0, 0, 0, 0, 0, 1, 1, 0, 0, 0, 0, 0],\n",
    " [0, 0, 0, 1, 0, 0, 0, 0, 0, 0, 1, 0, 1, 1, 1],\n",
    " [1, 0, 1, 1, 0, 0, 1, 0, 0, 0, 0, 1, 0, 1, 0],\n",
    " [0, 1, 0, 0, 0, 0, 0, 0, 0, 0, 1, 0, 1, 1, 0],\n",
    " [0, 0, 1, 0, 1, 0, 0, 0, 0, 0, 1, 1, 1, 1, 1],\n",
    " [0, 1, 0, 0, 1, 1, 0, 1, 0, 0, 1, 0, 0, 1, 1]])\n",
    "\n",
    "zombieCluster(a)"
   ]
  },
  {
   "cell_type": "code",
   "execution_count": 6,
   "metadata": {},
   "outputs": [
    {
     "data": {
      "text/plain": [
       "1"
      ]
     },
     "execution_count": 6,
     "metadata": {},
     "output_type": "execute_result"
    }
   ],
   "source": [
    "## exemple 8\n",
    "a =np.array ([[1, 1, 0, 0, 0, 0, 0, 0, 0, 0, 0, 0],\n",
    " [1, 1, 1, 1, 1, 0, 0, 0, 1, 0, 0, 0],\n",
    " [0, 1, 1, 0, 0, 0, 0, 0, 0, 0, 0, 0],\n",
    " [0, 1, 0, 1, 0, 1, 0, 0, 0, 0, 0, 1],\n",
    " [0, 1, 0, 0, 1, 0, 1, 1, 1, 0, 0, 0],\n",
    " [0, 0, 0, 1, 0, 1, 0, 0, 0, 0, 0, 0],\n",
    " [0, 0, 0, 0, 1, 0, 1, 0, 0, 0, 0, 0],\n",
    " [0, 0, 0, 0, 1, 0, 0, 1, 1, 0, 0, 0],\n",
    " [0, 1, 0, 0, 1, 0, 0, 1, 1, 0, 0, 0],\n",
    " [0, 0, 0, 0, 0, 0, 0, 0, 0, 1, 0, 1],\n",
    " [0, 0, 0, 0, 0, 0, 0, 0, 0, 0, 1, 1],\n",
    " [0, 0, 0, 1, 0, 0, 0, 0, 0, 1, 1, 1]])\n",
    "\n",
    "zombieCluster(a)"
   ]
  },
  {
   "cell_type": "code",
   "execution_count": 7,
   "metadata": {},
   "outputs": [
    {
     "data": {
      "text/plain": [
       "4"
      ]
     },
     "execution_count": 7,
     "metadata": {},
     "output_type": "execute_result"
    }
   ],
   "source": [
    "## exemple 7\n",
    "a =np.array ([[1, 0, 0, 0, 0, 0, 0, 0],\n",
    " [0, 1, 0, 1, 0, 1, 0, 0],\n",
    " [0, 0, 1, 0, 1, 0, 0, 0],\n",
    " [0, 1, 0, 1, 1, 1, 0, 0],\n",
    " [0, 0, 1, 1, 1, 0, 0, 0],\n",
    " [0, 1, 0, 1, 0, 1, 0, 0],\n",
    " [0, 0, 0, 0, 0, 0, 1, 0],\n",
    " [0, 0, 0, 0, 0, 0, 0, 1]])\n",
    "\n",
    "zombieCluster(a)"
   ]
  },
  {
   "cell_type": "code",
   "execution_count": 11,
   "metadata": {},
   "outputs": [
    {
     "data": {
      "text/plain": [
       "4"
      ]
     },
     "execution_count": 11,
     "metadata": {},
     "output_type": "execute_result"
    }
   ],
   "source": [
    "##exemple 6\n",
    "a =np.array ([[1, 1, 1, 0, 0, 0, 0, 0],\n",
    " [1, 1, 1, 0, 0, 0, 0, 0],\n",
    " [1, 1, 1, 1, 0, 1, 0, 0],\n",
    " [0, 0, 1, 1, 0, 1, 0, 0],\n",
    " [0, 0, 0, 0, 1, 0, 0, 0],\n",
    " [0, 0, 1, 1, 0, 1, 0, 0],\n",
    " [0, 0, 0, 0, 0, 0, 1, 0],\n",
    " [0, 0, 0, 0, 0, 0, 0, 1]])\n",
    "\n",
    "zombieCluster(a)"
   ]
  },
  {
   "cell_type": "code",
   "execution_count": 18,
   "metadata": {},
   "outputs": [
    {
     "data": {
      "text/plain": [
       "3"
      ]
     },
     "execution_count": 18,
     "metadata": {},
     "output_type": "execute_result"
    }
   ],
   "source": [
    "##exemple 5\n",
    "a =np.array ([[1, 1, 0, 0, 1, 0, 0],\n",
    " [1, 1, 0, 0, 0, 1, 0],\n",
    " [0, 0, 1, 0, 0, 0, 0],\n",
    " [0, 0, 0, 1, 1, 0, 0],\n",
    " [1, 0, 0, 1, 1, 1, 0],\n",
    " [0, 1, 0, 0, 1, 1, 0],\n",
    " [0, 0, 0, 0, 0, 0, 1]])\n",
    "\n",
    "zombieCluster(a)"
   ]
  },
  {
   "cell_type": "code",
   "execution_count": 14,
   "metadata": {},
   "outputs": [
    {
     "data": {
      "text/plain": [
       "3"
      ]
     },
     "execution_count": 14,
     "metadata": {},
     "output_type": "execute_result"
    }
   ],
   "source": [
    "##exemple 4\n",
    "a =np.array([[1, 0, 0, 0, 1, 0],\n",
    " [0, 1, 0, 0, 0, 0],\n",
    " [0, 0, 1, 0, 0, 0],\n",
    " [0, 0, 0, 1, 1, 1],\n",
    " [1, 0, 0, 1, 1, 0],\n",
    " [0, 0, 0, 1, 0, 1]])\n",
    "zombieCluster(a)"
   ]
  },
  {
   "cell_type": "code",
   "execution_count": 15,
   "metadata": {},
   "outputs": [
    {
     "data": {
      "text/plain": [
       "5"
      ]
     },
     "execution_count": 15,
     "metadata": {},
     "output_type": "execute_result"
    }
   ],
   "source": [
    "##exemple 3\n",
    "a =np.array([[1, 0, 0, 0, 0, 0],\n",
    " [0, 1, 0, 0, 0, 1],\n",
    " [0, 0, 1, 0, 0, 0],\n",
    " [0, 0, 0, 1, 0, 0],\n",
    " [0, 0, 0, 0, 1, 0],\n",
    " [0, 1, 0, 0, 0, 1]])\n",
    "zombieCluster(a)\n",
    "\n"
   ]
  },
  {
   "cell_type": "code",
   "execution_count": 16,
   "metadata": {},
   "outputs": [
    {
     "data": {
      "text/plain": [
       "3"
      ]
     },
     "execution_count": 16,
     "metadata": {},
     "output_type": "execute_result"
    }
   ],
   "source": [
    "##exemple 2\n",
    "\n",
    "a =np.array([[1, 0, 0, 0, 0],\n",
    " [0, 1, 1, 0, 0],\n",
    " [0, 1, 1, 0, 0],\n",
    " [0, 0, 0, 1, 1],\n",
    " [0, 0, 0, 1, 1]])\n",
    "zombieCluster(a)\n",
    "\n"
   ]
  },
  {
   "cell_type": "code",
   "execution_count": 17,
   "metadata": {},
   "outputs": [
    {
     "data": {
      "text/plain": [
       "2"
      ]
     },
     "execution_count": 17,
     "metadata": {},
     "output_type": "execute_result"
    }
   ],
   "source": [
    "##exemple 1\n",
    "a =np.array([[1, 0, 0, 0, 0],\n",
    " [0, 1, 0, 1, 0],\n",
    " [0, 0, 1, 1, 1],\n",
    " [0, 1, 1, 1, 0],\n",
    " [0, 0, 1, 0, 1]])\n",
    "zombieCluster(a)\n"
   ]
  },
  {
   "cell_type": "code",
   "execution_count": null,
   "metadata": {},
   "outputs": [],
   "source": []
  }
 ],
 "metadata": {
  "kernelspec": {
   "display_name": "Python 3",
   "language": "python",
   "name": "python3"
  },
  "language_info": {
   "codemirror_mode": {
    "name": "ipython",
    "version": 3
   },
   "file_extension": ".py",
   "mimetype": "text/x-python",
   "name": "python",
   "nbconvert_exporter": "python",
   "pygments_lexer": "ipython3",
   "version": "3.7.0"
  },
  "toc": {
   "base_numbering": 1,
   "nav_menu": {},
   "number_sections": true,
   "sideBar": true,
   "skip_h1_title": false,
   "title_cell": "Table of Contents",
   "title_sidebar": "Contents",
   "toc_cell": false,
   "toc_position": {},
   "toc_section_display": true,
   "toc_window_display": false
  }
 },
 "nbformat": 4,
 "nbformat_minor": 2
}
